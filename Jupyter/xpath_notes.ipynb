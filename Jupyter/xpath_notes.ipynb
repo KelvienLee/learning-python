{
 "cells": [
  {
   "cell_type": "markdown",
   "source": [
    "# xPATH notes"
   ],
   "metadata": {}
  }
 ],
 "metadata": {
  "orig_nbformat": 4,
  "language_info": {
   "name": "python",
   "version": "3.8.11"
  },
  "kernelspec": {
   "name": "python3",
   "display_name": "Python 3.8.11 64-bit ('Learning_python': conda)"
  },
  "interpreter": {
   "hash": "6b94198b15824446a5330566d2cc0d96b3e7209903bf344dfcc64fac5dd60ad6"
  }
 },
 "nbformat": 4,
 "nbformat_minor": 2
}